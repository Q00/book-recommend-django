{
 "cells": [
  {
   "cell_type": "code",
   "execution_count": 1,
   "metadata": {},
   "outputs": [],
   "source": [
    "import pandas as pd\n",
    "import math"
   ]
  },
  {
   "cell_type": "code",
   "execution_count": 2,
   "metadata": {},
   "outputs": [],
   "source": [
    "def recommending_books(book_list, tag_list, author_score_rate=1.0, country_score_rate=0.5, tag_score_rate=1.5, \n",
    "                       topn=10, book_path=\"book.json\"):\n",
    "    \n",
    "    book = pd.read_json(book_path, encoding='cp949')\n",
    "    \n",
    "    read_book = book[book['title'].isin(book_list)]\n",
    "    \n",
    "    # 읽은 책들에 대한 작가의 등장 횟수로 score계산\n",
    "    author_score = read_book.author.value_counts().to_dict()\n",
    "    for author in author_score:\n",
    "        author_score[author] = math.log(1+author_score[author])\n",
    "    \n",
    "    # 읽은 책들에 대한 나라의 등장 횟수로 score계산\n",
    "    country_score = read_book.country.value_counts().to_dict()\n",
    "    for country in country_score:\n",
    "        country_score[country] = math.log(1+country_score[country])\n",
    "    \n",
    "    tag_score = {}\n",
    "    \n",
    "    # 읽은 책들에 대한 태그의 등장 횟수로 score계산\n",
    "    for tag_array in read_book.tags:\n",
    "        for tag in tag_array:\n",
    "            if tag in tag_score:\n",
    "                tag_score[tag] += 1\n",
    "            else:\n",
    "                tag_score[tag] = 1\n",
    "                \n",
    "    # 유저의 태그 목록으로 score 계산\n",
    "    # 읽은 책들에 대한 태그와의 보정을 위해 책들 수만큼 더해준다.\n",
    "    for tag in tag_list:\n",
    "        if tag in tag_score:\n",
    "            tag_score[tag] += len(book_list)\n",
    "        else:\n",
    "            tag_score[tag] = len(book_list)\n",
    "    for tag in tag_score:\n",
    "        tag_score[tag] = math.log(1+tag_score[tag])\n",
    "    \n",
    "    # print(author_score)\n",
    "    # print(country_score)\n",
    "    # print(tag_score)\n",
    "    \n",
    "    def calculate_score(row):\n",
    "        if row['title'] in book_list:\n",
    "            return -1\n",
    "        else:\n",
    "            score = 0\n",
    "            if row['author'] in author_score:\n",
    "                score += author_score[row['author']] * author_score_rate\n",
    "            if row['country'] in author_score:\n",
    "                score += author_score[row['author']] * country_score_rate\n",
    "            tags = row['tags']\n",
    "            for tag in tags:\n",
    "                if tag in tag_score:\n",
    "                    # 태그가 많은 책에 대한 보정을 위해 약하게 나누는 항을 추가한다.\n",
    "                    score += tag_score[tag] * tag_score_rate / math.sqrt(math.log(1+len(tags)))\n",
    "            return score\n",
    "        \n",
    "    top_idx = book.apply(calculate_score, axis=1).sort_values(ascending=False).index[:topn]\n",
    "    # print(book.loc[top_idx])\n",
    "    \n",
    "    return book.title[top_idx].tolist()"
   ]
  }
 ],
 "metadata": {
  "kernelspec": {
   "display_name": "Python 3",
   "language": "python",
   "name": "python3"
  },
  "language_info": {
   "codemirror_mode": {
    "name": "ipython",
    "version": 3
   },
   "file_extension": ".py",
   "mimetype": "text/x-python",
   "name": "python",
   "nbconvert_exporter": "python",
   "pygments_lexer": "ipython3",
   "version": "3.7.0"
  }
 },
 "nbformat": 4,
 "nbformat_minor": 2
}
